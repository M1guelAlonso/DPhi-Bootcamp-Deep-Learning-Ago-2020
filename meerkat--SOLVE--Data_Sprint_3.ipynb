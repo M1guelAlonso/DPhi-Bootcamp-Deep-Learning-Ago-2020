{
  "nbformat": 4,
  "nbformat_minor": 0,
  "metadata": {
    "colab": {
      "name": "Data_Sprint_3.ipynb",
      "provenance": [],
      "include_colab_link": true
    },
    "kernelspec": {
      "name": "python3",
      "display_name": "Python 3"
    }
  },
  "cells": [
    {
      "cell_type": "markdown",
      "metadata": {
        "id": "view-in-github",
        "colab_type": "text"
      },
      "source": [
        "<a href=\"https://colab.research.google.com/github/M1guelAlonso/DPhi-Bootcamp-Deep-Learning-Ago-2020/blob/master/meerkat--SOLVE--Data_Sprint_3.ipynb\" target=\"_parent\"><img src=\"https://colab.research.google.com/assets/colab-badge.svg\" alt=\"Open In Colab\"/></a>"
      ]
    },
    {
      "cell_type": "markdown",
      "metadata": {
        "id": "blE_K8cQSfWf",
        "colab_type": "text"
      },
      "source": [
        "[![Open In Colab](https://colab.research.google.com/assets/colab-badge.svg)](https://colab.research.google.com/drive/183GlsizOUVpY37pb5EZXk_54vWGwFTPi?usp=sharing)"
      ]
    },
    {
      "cell_type": "markdown",
      "metadata": {
        "id": "rDisalNlaYQs",
        "colab_type": "text"
      },
      "source": [
        "![dphi banner](https://dphi-courses.s3.ap-south-1.amazonaws.com/Datathons/dphi_banner.png)"
      ]
    },
    {
      "cell_type": "markdown",
      "metadata": {
        "id": "Zq0W0R_SWun_",
        "colab_type": "text"
      },
      "source": [
        "# **Getting Started Code For [Data Sprint #3](https://dphi.tech/practice/challenge/25) on <font color='green'>DPhi</font>**"
      ]
    },
    {
      "cell_type": "markdown",
      "metadata": {
        "id": "2Xmeez26YdC2",
        "colab_type": "text"
      },
      "source": [
        "#### **Author: Manish KC**"
      ]
    },
    {
      "cell_type": "markdown",
      "metadata": {
        "id": "qCfCO8Z90f0c",
        "colab_type": "text"
      },
      "source": [
        "# Loading Libraries\n",
        "All Python capabilities are not loaded to our working environment by default (even they are already installed in your system). So, we import each and every library that we want to use.\n",
        "\n",
        "In data science, numpy and pandas are most commonly used libraries. Numpy is required for calculations like means, medians, square roots, etc. Pandas is used for data processin and data frames. We chose alias names for our libraries for the sake of our convenience (numpy --> np and pandas --> pd).\n",
        "\n",
        "Note: You can import all the libraries that you think will be required or can import it as you go along. \n",
        "\n",
        "Here we are importing two libraries - numpy and pandas\n"
      ]
    },
    {
      "cell_type": "code",
      "metadata": {
        "id": "AdgJJlH40_bQ",
        "colab_type": "code",
        "colab": {}
      },
      "source": [
        "import numpy as np        # Fundamental package for linear algebra and multidimensional arrays\n",
        "import pandas as pd       # Data analysis and manipultion tool"
      ],
      "execution_count": 1,
      "outputs": []
    },
    {
      "cell_type": "markdown",
      "metadata": {
        "id": "Y1NzvInd1kx6",
        "colab_type": "text"
      },
      "source": [
        "# Loading Dataset\n",
        "Pandas module is used for reading files. We have our data in '.csv' format. We will use 'read_csv()' function for loading the data. \n",
        "\n",
        "You can learn more about pandas [here](https://dphi.tech/learn/introduction-to-pandas)"
      ]
    },
    {
      "cell_type": "code",
      "metadata": {
        "id": "5inGNMiR1hKx",
        "colab_type": "code",
        "colab": {}
      },
      "source": [
        "# In read_csv() function, we have passed the location to where the files are located in the dphi official github page.\n",
        "abalone_data  = pd.read_csv(\"https://raw.githubusercontent.com/dphi-official/Datasets/master/abalone_data/training_set_label.csv\" )"
      ],
      "execution_count": 12,
      "outputs": []
    },
    {
      "cell_type": "markdown",
      "metadata": {
        "id": "0ndV57522Czi",
        "colab_type": "text"
      },
      "source": [
        "## What do you need to do now?\n",
        "*  Perform EDA and Data Visualization 👀 to understand the data. Learn more about EDA [here](https://dphi.tech/learn/introduction-to-exploratory-data-analysis). Learn more about data visualization [here](https://dphi.tech/learn/introduction-to-data-visualization)\n",
        "*  Clean the data if required (like removing or filling missing values, treat outliers, etc.). Learn more about handling missing values [here](https://youtu.be/EaGbS7eWSs0)\n",
        "*  Perform Data Preprocessing if you feel it's required. Learn one hot encoding [here](https://youtu.be/9yl6-HEY7_s)."
      ]
    },
    {
      "cell_type": "markdown",
      "metadata": {
        "id": "SJZTl-Hn6SqG",
        "colab_type": "text"
      },
      "source": [
        "# Separating Input Features and Output Features\n",
        "Before building any machine learning model, we always separate the input variables and output variables. Input variables are those quantities whose values are changed naturally in an experiment, whereas output variable is the one whose values are dependent on the input variables. So, input variables are also known as independent variables as its values are not dependent on any other quantity, and output variable/s are also known as dependent variables as its values are dependent on other variable i.e. input variables. Like here in this data, we want to predict the age (i.e. Rings) of an Abalone, so the Rings is our target variable i.e. y and remaining features are input variable.\n",
        "\n",
        "By convention input variables are represented with 'X' and output variables are represented with 'y'."
      ]
    },
    {
      "cell_type": "code",
      "metadata": {
        "id": "bG7oHnzB1_NJ",
        "colab_type": "code",
        "colab": {}
      },
      "source": [
        "# Input/independent variables\n",
        "X = abalone_data.drop(['Sex','Rings'], axis = 1)   # her we are droping the Rings feature as this is the target and 'X' is input features, the changes are not \n",
        "                                              # made inplace as we have not used 'inplace = True'\n",
        "\n",
        "y = abalone_data.Rings             # Output/Dependent variable"
      ],
      "execution_count": 14,
      "outputs": []
    },
    {
      "cell_type": "code",
      "metadata": {
        "id": "xcpdemfHUFe9",
        "colab_type": "code",
        "colab": {
          "base_uri": "https://localhost:8080/",
          "height": 391
        },
        "outputId": "68f38923-0c85-4296-c77f-dd1ad085f8e5"
      },
      "source": [
        "X"
      ],
      "execution_count": 15,
      "outputs": [
        {
          "output_type": "execute_result",
          "data": {
            "text/html": [
              "<div>\n",
              "<style scoped>\n",
              "    .dataframe tbody tr th:only-of-type {\n",
              "        vertical-align: middle;\n",
              "    }\n",
              "\n",
              "    .dataframe tbody tr th {\n",
              "        vertical-align: top;\n",
              "    }\n",
              "\n",
              "    .dataframe thead th {\n",
              "        text-align: right;\n",
              "    }\n",
              "</style>\n",
              "<table border=\"1\" class=\"dataframe\">\n",
              "  <thead>\n",
              "    <tr style=\"text-align: right;\">\n",
              "      <th></th>\n",
              "      <th>Length</th>\n",
              "      <th>Diameter</th>\n",
              "      <th>Height</th>\n",
              "      <th>Whole weight</th>\n",
              "      <th>Shucked weight</th>\n",
              "      <th>Viscera weight</th>\n",
              "      <th>Shell weight</th>\n",
              "    </tr>\n",
              "  </thead>\n",
              "  <tbody>\n",
              "    <tr>\n",
              "      <th>0</th>\n",
              "      <td>0.525</td>\n",
              "      <td>0.400</td>\n",
              "      <td>0.135</td>\n",
              "      <td>0.7140</td>\n",
              "      <td>0.3180</td>\n",
              "      <td>0.1380</td>\n",
              "      <td>0.2080</td>\n",
              "    </tr>\n",
              "    <tr>\n",
              "      <th>1</th>\n",
              "      <td>0.445</td>\n",
              "      <td>0.325</td>\n",
              "      <td>0.125</td>\n",
              "      <td>0.4550</td>\n",
              "      <td>0.1785</td>\n",
              "      <td>0.1125</td>\n",
              "      <td>0.1400</td>\n",
              "    </tr>\n",
              "    <tr>\n",
              "      <th>2</th>\n",
              "      <td>0.710</td>\n",
              "      <td>0.540</td>\n",
              "      <td>0.165</td>\n",
              "      <td>1.9590</td>\n",
              "      <td>0.7665</td>\n",
              "      <td>0.2610</td>\n",
              "      <td>0.7800</td>\n",
              "    </tr>\n",
              "    <tr>\n",
              "      <th>3</th>\n",
              "      <td>0.680</td>\n",
              "      <td>0.580</td>\n",
              "      <td>0.200</td>\n",
              "      <td>1.7870</td>\n",
              "      <td>0.5850</td>\n",
              "      <td>0.4530</td>\n",
              "      <td>0.6000</td>\n",
              "    </tr>\n",
              "    <tr>\n",
              "      <th>4</th>\n",
              "      <td>0.605</td>\n",
              "      <td>0.470</td>\n",
              "      <td>0.160</td>\n",
              "      <td>1.1735</td>\n",
              "      <td>0.4975</td>\n",
              "      <td>0.2405</td>\n",
              "      <td>0.3450</td>\n",
              "    </tr>\n",
              "    <tr>\n",
              "      <th>...</th>\n",
              "      <td>...</td>\n",
              "      <td>...</td>\n",
              "      <td>...</td>\n",
              "      <td>...</td>\n",
              "      <td>...</td>\n",
              "      <td>...</td>\n",
              "      <td>...</td>\n",
              "    </tr>\n",
              "    <tr>\n",
              "      <th>3127</th>\n",
              "      <td>0.415</td>\n",
              "      <td>0.315</td>\n",
              "      <td>0.120</td>\n",
              "      <td>0.4015</td>\n",
              "      <td>0.1990</td>\n",
              "      <td>0.0870</td>\n",
              "      <td>0.0970</td>\n",
              "    </tr>\n",
              "    <tr>\n",
              "      <th>3128</th>\n",
              "      <td>0.325</td>\n",
              "      <td>0.240</td>\n",
              "      <td>0.070</td>\n",
              "      <td>0.1520</td>\n",
              "      <td>0.0565</td>\n",
              "      <td>0.0305</td>\n",
              "      <td>0.0540</td>\n",
              "    </tr>\n",
              "    <tr>\n",
              "      <th>3129</th>\n",
              "      <td>0.565</td>\n",
              "      <td>0.455</td>\n",
              "      <td>0.155</td>\n",
              "      <td>0.9355</td>\n",
              "      <td>0.4210</td>\n",
              "      <td>0.1830</td>\n",
              "      <td>0.2600</td>\n",
              "    </tr>\n",
              "    <tr>\n",
              "      <th>3130</th>\n",
              "      <td>0.610</td>\n",
              "      <td>0.485</td>\n",
              "      <td>0.145</td>\n",
              "      <td>1.3305</td>\n",
              "      <td>0.7830</td>\n",
              "      <td>0.2255</td>\n",
              "      <td>0.2865</td>\n",
              "    </tr>\n",
              "    <tr>\n",
              "      <th>3131</th>\n",
              "      <td>0.655</td>\n",
              "      <td>0.505</td>\n",
              "      <td>0.190</td>\n",
              "      <td>1.3485</td>\n",
              "      <td>0.5935</td>\n",
              "      <td>0.2745</td>\n",
              "      <td>0.4250</td>\n",
              "    </tr>\n",
              "  </tbody>\n",
              "</table>\n",
              "<p>3132 rows × 7 columns</p>\n",
              "</div>"
            ],
            "text/plain": [
              "      Length  Diameter  Height  ...  Shucked weight  Viscera weight  Shell weight\n",
              "0      0.525     0.400   0.135  ...          0.3180          0.1380        0.2080\n",
              "1      0.445     0.325   0.125  ...          0.1785          0.1125        0.1400\n",
              "2      0.710     0.540   0.165  ...          0.7665          0.2610        0.7800\n",
              "3      0.680     0.580   0.200  ...          0.5850          0.4530        0.6000\n",
              "4      0.605     0.470   0.160  ...          0.4975          0.2405        0.3450\n",
              "...      ...       ...     ...  ...             ...             ...           ...\n",
              "3127   0.415     0.315   0.120  ...          0.1990          0.0870        0.0970\n",
              "3128   0.325     0.240   0.070  ...          0.0565          0.0305        0.0540\n",
              "3129   0.565     0.455   0.155  ...          0.4210          0.1830        0.2600\n",
              "3130   0.610     0.485   0.145  ...          0.7830          0.2255        0.2865\n",
              "3131   0.655     0.505   0.190  ...          0.5935          0.2745        0.4250\n",
              "\n",
              "[3132 rows x 7 columns]"
            ]
          },
          "metadata": {
            "tags": []
          },
          "execution_count": 15
        }
      ]
    },
    {
      "cell_type": "markdown",
      "metadata": {
        "id": "ydj91s_E64Uu",
        "colab_type": "text"
      },
      "source": [
        "# Splitting the data into Train and Validation Set\n",
        "We want to check the performance of the model that we built. For this purpose, we always split (both input and output data) the given data into training set which will be used to train the model, and test set which will be used to check how accurately the model is predicting outcomes.\n",
        "\n",
        "For this purpose we have a class called 'train_test_split' in the 'sklearn.model_selection' module.\n",
        "\n"
      ]
    },
    {
      "cell_type": "code",
      "metadata": {
        "id": "m7EGP5w360BD",
        "colab_type": "code",
        "colab": {}
      },
      "source": [
        "# import train_test_split\n",
        "from sklearn.model_selection import train_test_split"
      ],
      "execution_count": 16,
      "outputs": []
    },
    {
      "cell_type": "code",
      "metadata": {
        "id": "Dj5_kJ2Y7FnS",
        "colab_type": "code",
        "colab": {}
      },
      "source": [
        "# split the data\n",
        "X_train, X_val, y_train, y_val = train_test_split(X,y,test_size=0.3, random_state = 42)\n",
        "\n",
        "# X_train: independent/input feature data for training the model\n",
        "# y_train: dependent/output feature data for training the model\n",
        "# X_test: independent/input feature data for testing the model; will be used to predict the output values\n",
        "# y_test: original dependent/output values of X_test; We will compare this values with our predicted values to check the performance of our built model.\n",
        " \n",
        "# test_size = 0.30: 30% of the data will go for test set and 70% of the data will go for train set\n",
        "# random_state = 42: this will fix the split i.e. there will be same split for each time you run the co"
      ],
      "execution_count": 17,
      "outputs": []
    },
    {
      "cell_type": "markdown",
      "metadata": {
        "id": "HsxciXev7Q_i",
        "colab_type": "text"
      },
      "source": [
        "# Building Model\n",
        "Now we are finally ready, and we can train the model.\n",
        "\n",
        "There are tons of Machine Learning models like Linear Regression, Random Forest, Decision Tree, etc. to say you some. However here we are using Random Forest Regressor (again, using the sklearn library).\n",
        "\n",
        "Then we would feed the model both with the data (X_train) and the answers for that data (y_train)"
      ]
    },
    {
      "cell_type": "code",
      "metadata": {
        "id": "ay4pnyq87LO8",
        "colab_type": "code",
        "colab": {}
      },
      "source": [
        "# Importing RandomForestClassifier from sklearn.ensemble\n",
        "# We will be further discussing about why Random Forest is in ensemble module of sklearn library\n",
        "from sklearn.ensemble import RandomForestRegressor"
      ],
      "execution_count": 18,
      "outputs": []
    },
    {
      "cell_type": "code",
      "metadata": {
        "id": "sE6vHN6t763C",
        "colab_type": "code",
        "colab": {}
      },
      "source": [
        "rfc = RandomForestRegressor()"
      ],
      "execution_count": 19,
      "outputs": []
    },
    {
      "cell_type": "markdown",
      "metadata": {
        "id": "e23pEgaC8G8l",
        "colab_type": "text"
      },
      "source": [
        "### Train the model"
      ]
    },
    {
      "cell_type": "code",
      "metadata": {
        "id": "4YmXvx3B7-FH",
        "colab_type": "code",
        "colab": {
          "base_uri": "https://localhost:8080/",
          "height": 131
        },
        "outputId": "4ae082b3-39f8-4497-fbe8-4266d55a0331"
      },
      "source": [
        "rfc.fit(X_train, y_train)"
      ],
      "execution_count": 20,
      "outputs": [
        {
          "output_type": "execute_result",
          "data": {
            "text/plain": [
              "RandomForestRegressor(bootstrap=True, ccp_alpha=0.0, criterion='mse',\n",
              "                      max_depth=None, max_features='auto', max_leaf_nodes=None,\n",
              "                      max_samples=None, min_impurity_decrease=0.0,\n",
              "                      min_impurity_split=None, min_samples_leaf=1,\n",
              "                      min_samples_split=2, min_weight_fraction_leaf=0.0,\n",
              "                      n_estimators=100, n_jobs=None, oob_score=False,\n",
              "                      random_state=None, verbose=0, warm_start=False)"
            ]
          },
          "metadata": {
            "tags": []
          },
          "execution_count": 20
        }
      ]
    },
    {
      "cell_type": "markdown",
      "metadata": {
        "id": "wKO513vA8Vhu",
        "colab_type": "text"
      },
      "source": [
        "# Validate The Model\n",
        "Wonder🤔 how well your model learned! Lets check it.\n",
        "\n",
        "### Predict on the validation data (X_val)\n",
        "Now we predict using our trained model on the validation set we created i.e. X_val and evaluate our model on unforeseen data."
      ]
    },
    {
      "cell_type": "code",
      "metadata": {
        "id": "0d5YdS-W8RD1",
        "colab_type": "code",
        "colab": {}
      },
      "source": [
        "pred = rfc.predict(X_val)"
      ],
      "execution_count": 21,
      "outputs": []
    },
    {
      "cell_type": "markdown",
      "metadata": {
        "id": "zYD_9rcY9xkl",
        "colab_type": "text"
      },
      "source": [
        "## Model Evaluation\n",
        "Evaluating performance of the machine learning model that we have built is an essential part of any machine learning project. Performance of our model is done using some evaluation metrics.\n",
        "\n",
        "There are so many evaluation metrics to use for regression problem, naming some - Mean Squared Error (in short MSE), Mean Absolute Error (in short MAE), Root Mean Squared Erro (in short RMSE), etc. However, **RMSE** is the metric for this data sprint. "
      ]
    },
    {
      "cell_type": "code",
      "metadata": {
        "id": "ce4XV0GS-u_r",
        "colab_type": "code",
        "colab": {}
      },
      "source": [
        "# import mean squared error from sklearn.metric\n",
        "from sklearn.metrics import mean_squared_error"
      ],
      "execution_count": 22,
      "outputs": []
    },
    {
      "cell_type": "code",
      "metadata": {
        "id": "LBI7JwY1-40F",
        "colab_type": "code",
        "colab": {
          "base_uri": "https://localhost:8080/",
          "height": 33
        },
        "outputId": "308dd4e1-6bc9-4c22-dfdf-cb9167f2f5ee"
      },
      "source": [
        "print('Root Mean Squared Error is: ', np.sqrt(mean_squared_error(y_val, pred))) \n",
        "\n",
        "# y_val is the original target value of the validation set (X_val)\n",
        "# pred is the predicted target value of the validation set"
      ],
      "execution_count": 23,
      "outputs": [
        {
          "output_type": "stream",
          "text": [
            "Root Mean Squared Error is:  2.1978696406854543\n"
          ],
          "name": "stdout"
        }
      ]
    },
    {
      "cell_type": "markdown",
      "metadata": {
        "id": "-b1C_HVx_lKV",
        "colab_type": "text"
      },
      "source": [
        "# Predict The Output For Testing Dataset 😅\n",
        "We have trained our model, evaluated it and now finally we will predict the output/target for the testing data (i.e. testing_set_label.csv) given in 'How To Submit' section of the problem page.\n",
        "\n"
      ]
    },
    {
      "cell_type": "markdown",
      "metadata": {
        "id": "4BlJRzftAjTO",
        "colab_type": "text"
      },
      "source": [
        "## Load Test Set\n",
        "Load the test data on which final submission is to be made."
      ]
    },
    {
      "cell_type": "code",
      "metadata": {
        "id": "N_LHXg8ZAilM",
        "colab_type": "code",
        "colab": {}
      },
      "source": [
        "test_data = pd.read_csv('https://raw.githubusercontent.com/dphi-official/Datasets/master/abalone_data/testing_set_label.csv')"
      ],
      "execution_count": 24,
      "outputs": []
    },
    {
      "cell_type": "markdown",
      "metadata": {
        "id": "dSlXRaJRA2K9",
        "colab_type": "text"
      },
      "source": [
        "**Note:** \n",
        "*  Use the same techniques to deal with missing values as done with the training dataset.   \n",
        "\n",
        "*  **Don't remove any observation/record from the test dataset otherwise you will get wrong answer. The number of items in your prediction should be same as the number of records are present in the test dataset**.\n",
        "\n",
        "*  Use the same techniques to preprocess the data as done with training dataset.\n",
        "\n",
        "***Why do we need to do the same procedure of filling missing values, data cleaning and data preprocessing on the new test data as it was done for the training and validation data?***\n",
        "\n",
        "**Ans:** Because our model has been trained on certain format of data and if we don't provide the testing data of the similar format, the model will give erroneous predictions and the rmse of the model will increase. Also, if the model was build on 'n' number of features, while predicting on new test data you should always give the same number of features to the model. In this case if you provide different number of features while predicting the output, your ML model will throw a ValueError saying something like 'number of features given x; expecting n'. Not confident about these statements? Well, as a data scientist you should always perform some experiment and observe the results.\n",
        "\n"
      ]
    },
    {
      "cell_type": "markdown",
      "metadata": {
        "id": "Q1VWI-oiCp3t",
        "colab_type": "text"
      },
      "source": [
        "## Make Prediction on Test Dataset\n",
        "Time to make submission!!!"
      ]
    },
    {
      "cell_type": "code",
      "metadata": {
        "id": "ZVI3GgzcWkNc",
        "colab_type": "code",
        "colab": {
          "base_uri": "https://localhost:8080/",
          "height": 391
        },
        "outputId": "63ccb641-893e-40e1-fd8d-df89c01fd97d"
      },
      "source": [
        "test_data"
      ],
      "execution_count": 25,
      "outputs": [
        {
          "output_type": "execute_result",
          "data": {
            "text/html": [
              "<div>\n",
              "<style scoped>\n",
              "    .dataframe tbody tr th:only-of-type {\n",
              "        vertical-align: middle;\n",
              "    }\n",
              "\n",
              "    .dataframe tbody tr th {\n",
              "        vertical-align: top;\n",
              "    }\n",
              "\n",
              "    .dataframe thead th {\n",
              "        text-align: right;\n",
              "    }\n",
              "</style>\n",
              "<table border=\"1\" class=\"dataframe\">\n",
              "  <thead>\n",
              "    <tr style=\"text-align: right;\">\n",
              "      <th></th>\n",
              "      <th>Sex</th>\n",
              "      <th>Length</th>\n",
              "      <th>Diameter</th>\n",
              "      <th>Height</th>\n",
              "      <th>Whole weight</th>\n",
              "      <th>Shucked weight</th>\n",
              "      <th>Viscera weight</th>\n",
              "      <th>Shell weight</th>\n",
              "    </tr>\n",
              "  </thead>\n",
              "  <tbody>\n",
              "    <tr>\n",
              "      <th>0</th>\n",
              "      <td>F</td>\n",
              "      <td>0.555</td>\n",
              "      <td>0.445</td>\n",
              "      <td>0.175</td>\n",
              "      <td>1.1465</td>\n",
              "      <td>0.5510</td>\n",
              "      <td>0.2440</td>\n",
              "      <td>0.2785</td>\n",
              "    </tr>\n",
              "    <tr>\n",
              "      <th>1</th>\n",
              "      <td>I</td>\n",
              "      <td>0.360</td>\n",
              "      <td>0.270</td>\n",
              "      <td>0.090</td>\n",
              "      <td>0.2190</td>\n",
              "      <td>0.0970</td>\n",
              "      <td>0.0405</td>\n",
              "      <td>0.0650</td>\n",
              "    </tr>\n",
              "    <tr>\n",
              "      <th>2</th>\n",
              "      <td>I</td>\n",
              "      <td>0.395</td>\n",
              "      <td>0.320</td>\n",
              "      <td>0.100</td>\n",
              "      <td>0.3075</td>\n",
              "      <td>0.1490</td>\n",
              "      <td>0.0535</td>\n",
              "      <td>0.0900</td>\n",
              "    </tr>\n",
              "    <tr>\n",
              "      <th>3</th>\n",
              "      <td>F</td>\n",
              "      <td>0.585</td>\n",
              "      <td>0.450</td>\n",
              "      <td>0.170</td>\n",
              "      <td>0.8685</td>\n",
              "      <td>0.3325</td>\n",
              "      <td>0.1635</td>\n",
              "      <td>0.2700</td>\n",
              "    </tr>\n",
              "    <tr>\n",
              "      <th>4</th>\n",
              "      <td>F</td>\n",
              "      <td>0.575</td>\n",
              "      <td>0.460</td>\n",
              "      <td>0.160</td>\n",
              "      <td>1.1030</td>\n",
              "      <td>0.5380</td>\n",
              "      <td>0.2210</td>\n",
              "      <td>0.2490</td>\n",
              "    </tr>\n",
              "    <tr>\n",
              "      <th>...</th>\n",
              "      <td>...</td>\n",
              "      <td>...</td>\n",
              "      <td>...</td>\n",
              "      <td>...</td>\n",
              "      <td>...</td>\n",
              "      <td>...</td>\n",
              "      <td>...</td>\n",
              "      <td>...</td>\n",
              "    </tr>\n",
              "    <tr>\n",
              "      <th>1039</th>\n",
              "      <td>I</td>\n",
              "      <td>0.270</td>\n",
              "      <td>0.190</td>\n",
              "      <td>0.080</td>\n",
              "      <td>0.0810</td>\n",
              "      <td>0.0265</td>\n",
              "      <td>0.0195</td>\n",
              "      <td>0.0300</td>\n",
              "    </tr>\n",
              "    <tr>\n",
              "      <th>1040</th>\n",
              "      <td>I</td>\n",
              "      <td>0.520</td>\n",
              "      <td>0.395</td>\n",
              "      <td>0.115</td>\n",
              "      <td>0.6445</td>\n",
              "      <td>0.3155</td>\n",
              "      <td>0.1245</td>\n",
              "      <td>0.1860</td>\n",
              "    </tr>\n",
              "    <tr>\n",
              "      <th>1041</th>\n",
              "      <td>I</td>\n",
              "      <td>0.480</td>\n",
              "      <td>0.355</td>\n",
              "      <td>0.110</td>\n",
              "      <td>0.4495</td>\n",
              "      <td>0.2010</td>\n",
              "      <td>0.0890</td>\n",
              "      <td>0.1400</td>\n",
              "    </tr>\n",
              "    <tr>\n",
              "      <th>1042</th>\n",
              "      <td>M</td>\n",
              "      <td>0.665</td>\n",
              "      <td>0.520</td>\n",
              "      <td>0.175</td>\n",
              "      <td>1.3725</td>\n",
              "      <td>0.6060</td>\n",
              "      <td>0.3200</td>\n",
              "      <td>0.3950</td>\n",
              "    </tr>\n",
              "    <tr>\n",
              "      <th>1043</th>\n",
              "      <td>I</td>\n",
              "      <td>0.530</td>\n",
              "      <td>0.415</td>\n",
              "      <td>0.110</td>\n",
              "      <td>0.5745</td>\n",
              "      <td>0.2525</td>\n",
              "      <td>0.1235</td>\n",
              "      <td>0.1890</td>\n",
              "    </tr>\n",
              "  </tbody>\n",
              "</table>\n",
              "<p>1044 rows × 8 columns</p>\n",
              "</div>"
            ],
            "text/plain": [
              "     Sex  Length  Diameter  ...  Shucked weight  Viscera weight  Shell weight\n",
              "0      F   0.555     0.445  ...          0.5510          0.2440        0.2785\n",
              "1      I   0.360     0.270  ...          0.0970          0.0405        0.0650\n",
              "2      I   0.395     0.320  ...          0.1490          0.0535        0.0900\n",
              "3      F   0.585     0.450  ...          0.3325          0.1635        0.2700\n",
              "4      F   0.575     0.460  ...          0.5380          0.2210        0.2490\n",
              "...   ..     ...       ...  ...             ...             ...           ...\n",
              "1039   I   0.270     0.190  ...          0.0265          0.0195        0.0300\n",
              "1040   I   0.520     0.395  ...          0.3155          0.1245        0.1860\n",
              "1041   I   0.480     0.355  ...          0.2010          0.0890        0.1400\n",
              "1042   M   0.665     0.520  ...          0.6060          0.3200        0.3950\n",
              "1043   I   0.530     0.415  ...          0.2525          0.1235        0.1890\n",
              "\n",
              "[1044 rows x 8 columns]"
            ]
          },
          "metadata": {
            "tags": []
          },
          "execution_count": 25
        }
      ]
    },
    {
      "cell_type": "code",
      "metadata": {
        "id": "vNFlhborXWLY",
        "colab_type": "code",
        "colab": {}
      },
      "source": [
        "# Output/dependent variables\n",
        "X_test = test_data.drop('Sex', axis = 1)   # her we are droping the Rings feature as this is the target and 'X' is input features, the changes are not \n",
        "                                              # made inplace as we have not used 'inplace = True'"
      ],
      "execution_count": 26,
      "outputs": []
    },
    {
      "cell_type": "code",
      "metadata": {
        "id": "EWudbkK2Xz2E",
        "colab_type": "code",
        "colab": {
          "base_uri": "https://localhost:8080/",
          "height": 391
        },
        "outputId": "235ab9bd-5a44-4671-d861-f156baf7b05e"
      },
      "source": [
        "X_test"
      ],
      "execution_count": 27,
      "outputs": [
        {
          "output_type": "execute_result",
          "data": {
            "text/html": [
              "<div>\n",
              "<style scoped>\n",
              "    .dataframe tbody tr th:only-of-type {\n",
              "        vertical-align: middle;\n",
              "    }\n",
              "\n",
              "    .dataframe tbody tr th {\n",
              "        vertical-align: top;\n",
              "    }\n",
              "\n",
              "    .dataframe thead th {\n",
              "        text-align: right;\n",
              "    }\n",
              "</style>\n",
              "<table border=\"1\" class=\"dataframe\">\n",
              "  <thead>\n",
              "    <tr style=\"text-align: right;\">\n",
              "      <th></th>\n",
              "      <th>Length</th>\n",
              "      <th>Diameter</th>\n",
              "      <th>Height</th>\n",
              "      <th>Whole weight</th>\n",
              "      <th>Shucked weight</th>\n",
              "      <th>Viscera weight</th>\n",
              "      <th>Shell weight</th>\n",
              "    </tr>\n",
              "  </thead>\n",
              "  <tbody>\n",
              "    <tr>\n",
              "      <th>0</th>\n",
              "      <td>0.555</td>\n",
              "      <td>0.445</td>\n",
              "      <td>0.175</td>\n",
              "      <td>1.1465</td>\n",
              "      <td>0.5510</td>\n",
              "      <td>0.2440</td>\n",
              "      <td>0.2785</td>\n",
              "    </tr>\n",
              "    <tr>\n",
              "      <th>1</th>\n",
              "      <td>0.360</td>\n",
              "      <td>0.270</td>\n",
              "      <td>0.090</td>\n",
              "      <td>0.2190</td>\n",
              "      <td>0.0970</td>\n",
              "      <td>0.0405</td>\n",
              "      <td>0.0650</td>\n",
              "    </tr>\n",
              "    <tr>\n",
              "      <th>2</th>\n",
              "      <td>0.395</td>\n",
              "      <td>0.320</td>\n",
              "      <td>0.100</td>\n",
              "      <td>0.3075</td>\n",
              "      <td>0.1490</td>\n",
              "      <td>0.0535</td>\n",
              "      <td>0.0900</td>\n",
              "    </tr>\n",
              "    <tr>\n",
              "      <th>3</th>\n",
              "      <td>0.585</td>\n",
              "      <td>0.450</td>\n",
              "      <td>0.170</td>\n",
              "      <td>0.8685</td>\n",
              "      <td>0.3325</td>\n",
              "      <td>0.1635</td>\n",
              "      <td>0.2700</td>\n",
              "    </tr>\n",
              "    <tr>\n",
              "      <th>4</th>\n",
              "      <td>0.575</td>\n",
              "      <td>0.460</td>\n",
              "      <td>0.160</td>\n",
              "      <td>1.1030</td>\n",
              "      <td>0.5380</td>\n",
              "      <td>0.2210</td>\n",
              "      <td>0.2490</td>\n",
              "    </tr>\n",
              "    <tr>\n",
              "      <th>...</th>\n",
              "      <td>...</td>\n",
              "      <td>...</td>\n",
              "      <td>...</td>\n",
              "      <td>...</td>\n",
              "      <td>...</td>\n",
              "      <td>...</td>\n",
              "      <td>...</td>\n",
              "    </tr>\n",
              "    <tr>\n",
              "      <th>1039</th>\n",
              "      <td>0.270</td>\n",
              "      <td>0.190</td>\n",
              "      <td>0.080</td>\n",
              "      <td>0.0810</td>\n",
              "      <td>0.0265</td>\n",
              "      <td>0.0195</td>\n",
              "      <td>0.0300</td>\n",
              "    </tr>\n",
              "    <tr>\n",
              "      <th>1040</th>\n",
              "      <td>0.520</td>\n",
              "      <td>0.395</td>\n",
              "      <td>0.115</td>\n",
              "      <td>0.6445</td>\n",
              "      <td>0.3155</td>\n",
              "      <td>0.1245</td>\n",
              "      <td>0.1860</td>\n",
              "    </tr>\n",
              "    <tr>\n",
              "      <th>1041</th>\n",
              "      <td>0.480</td>\n",
              "      <td>0.355</td>\n",
              "      <td>0.110</td>\n",
              "      <td>0.4495</td>\n",
              "      <td>0.2010</td>\n",
              "      <td>0.0890</td>\n",
              "      <td>0.1400</td>\n",
              "    </tr>\n",
              "    <tr>\n",
              "      <th>1042</th>\n",
              "      <td>0.665</td>\n",
              "      <td>0.520</td>\n",
              "      <td>0.175</td>\n",
              "      <td>1.3725</td>\n",
              "      <td>0.6060</td>\n",
              "      <td>0.3200</td>\n",
              "      <td>0.3950</td>\n",
              "    </tr>\n",
              "    <tr>\n",
              "      <th>1043</th>\n",
              "      <td>0.530</td>\n",
              "      <td>0.415</td>\n",
              "      <td>0.110</td>\n",
              "      <td>0.5745</td>\n",
              "      <td>0.2525</td>\n",
              "      <td>0.1235</td>\n",
              "      <td>0.1890</td>\n",
              "    </tr>\n",
              "  </tbody>\n",
              "</table>\n",
              "<p>1044 rows × 7 columns</p>\n",
              "</div>"
            ],
            "text/plain": [
              "      Length  Diameter  Height  ...  Shucked weight  Viscera weight  Shell weight\n",
              "0      0.555     0.445   0.175  ...          0.5510          0.2440        0.2785\n",
              "1      0.360     0.270   0.090  ...          0.0970          0.0405        0.0650\n",
              "2      0.395     0.320   0.100  ...          0.1490          0.0535        0.0900\n",
              "3      0.585     0.450   0.170  ...          0.3325          0.1635        0.2700\n",
              "4      0.575     0.460   0.160  ...          0.5380          0.2210        0.2490\n",
              "...      ...       ...     ...  ...             ...             ...           ...\n",
              "1039   0.270     0.190   0.080  ...          0.0265          0.0195        0.0300\n",
              "1040   0.520     0.395   0.115  ...          0.3155          0.1245        0.1860\n",
              "1041   0.480     0.355   0.110  ...          0.2010          0.0890        0.1400\n",
              "1042   0.665     0.520   0.175  ...          0.6060          0.3200        0.3950\n",
              "1043   0.530     0.415   0.110  ...          0.2525          0.1235        0.1890\n",
              "\n",
              "[1044 rows x 7 columns]"
            ]
          },
          "metadata": {
            "tags": []
          },
          "execution_count": 27
        }
      ]
    },
    {
      "cell_type": "code",
      "metadata": {
        "id": "i3Fsfy9iA1N7",
        "colab_type": "code",
        "colab": {}
      },
      "source": [
        "target = rfc.predict(X_test)"
      ],
      "execution_count": 28,
      "outputs": []
    },
    {
      "cell_type": "code",
      "metadata": {
        "id": "C7s3lpy9ZPQi",
        "colab_type": "code",
        "colab": {
          "base_uri": "https://localhost:8080/",
          "height": 33
        },
        "outputId": "eac5f14c-ba10-43de-98dd-fd8ea77a661d"
      },
      "source": [
        "target"
      ],
      "execution_count": 29,
      "outputs": [
        {
          "output_type": "execute_result",
          "data": {
            "text/plain": [
              "array([ 9.95,  6.24,  7.45, ...,  8.31, 10.4 ,  8.88])"
            ]
          },
          "metadata": {
            "tags": []
          },
          "execution_count": 29
        }
      ]
    },
    {
      "cell_type": "markdown",
      "metadata": {
        "id": "xrNaxq9KEp0n",
        "colab_type": "text"
      },
      "source": [
        "#### Note: **Follow the submission guidelines given in 'How To Submit' Section.**"
      ]
    },
    {
      "cell_type": "markdown",
      "metadata": {
        "id": "iH2U3r7CC99s",
        "colab_type": "text"
      },
      "source": [
        "## How to save prediciton results locally via jupyter notebook?\n",
        "If you are working on Jupyter notebook, execute below block of codes. A file named 'prediction_results.csv' will be created in your current working directory."
      ]
    },
    {
      "cell_type": "code",
      "metadata": {
        "id": "jyT2vAGIDjnF",
        "colab_type": "code",
        "colab": {}
      },
      "source": [
        "res = pd.DataFrame(target) #target is nothing but the final predictions of your model on input features of your new unseen test data\n",
        "res.index = test_data.index # its important for comparison. Here \"test_new\" is your new test dataset\n",
        "res.columns = [\"prediction\"]\n",
        "res.to_csv(\"submission.csv\")      # the csv file will be saved locally on the same location where this notebook is located."
      ],
      "execution_count": null,
      "outputs": []
    },
    {
      "cell_type": "markdown",
      "metadata": {
        "id": "98_QXo0TD_0G",
        "colab_type": "text"
      },
      "source": [
        "# **OR**, \n",
        "**if you are working on Google Colab then use the below set of code to save prediction results locally**"
      ]
    },
    {
      "cell_type": "markdown",
      "metadata": {
        "id": "vfrE2CjoDwje",
        "colab_type": "text"
      },
      "source": [
        "## How to save prediction results locally via colab notebook?\n",
        "If you are working on Google Colab Notebook, execute below block of codes. A file named 'prediction_results' will be downloaded in your system."
      ]
    },
    {
      "cell_type": "code",
      "metadata": {
        "id": "JgcOUpjKDzzI",
        "colab_type": "code",
        "colab": {
          "base_uri": "https://localhost:8080/",
          "height": 17
        },
        "outputId": "8d582eba-10af-408a-b032-a0074be902f9"
      },
      "source": [
        "# To create Dataframe of predicted value with particular respective index\n",
        "res = pd.DataFrame(target) # target are nothing but the final predictions of your model on input features of your new unseen test data\n",
        "res.index = test_data.index # its important for comparison. Here \"test_new\" is your new test dataset\n",
        "res.columns = [\"prediction\"]\n",
        "\n",
        "# To download the csv file locally\n",
        "from google.colab import files\n",
        "res.to_csv('submission.csv')         \n",
        "files.download('submission.csv')\n",
        "\n"
      ],
      "execution_count": 30,
      "outputs": [
        {
          "output_type": "display_data",
          "data": {
            "application/javascript": [
              "\n",
              "    async function download(id, filename, size) {\n",
              "      if (!google.colab.kernel.accessAllowed) {\n",
              "        return;\n",
              "      }\n",
              "      const div = document.createElement('div');\n",
              "      const label = document.createElement('label');\n",
              "      label.textContent = `Downloading \"${filename}\": `;\n",
              "      div.appendChild(label);\n",
              "      const progress = document.createElement('progress');\n",
              "      progress.max = size;\n",
              "      div.appendChild(progress);\n",
              "      document.body.appendChild(div);\n",
              "\n",
              "      const buffers = [];\n",
              "      let downloaded = 0;\n",
              "\n",
              "      const channel = await google.colab.kernel.comms.open(id);\n",
              "      // Send a message to notify the kernel that we're ready.\n",
              "      channel.send({})\n",
              "\n",
              "      for await (const message of channel.messages) {\n",
              "        // Send a message to notify the kernel that we're ready.\n",
              "        channel.send({})\n",
              "        if (message.buffers) {\n",
              "          for (const buffer of message.buffers) {\n",
              "            buffers.push(buffer);\n",
              "            downloaded += buffer.byteLength;\n",
              "            progress.value = downloaded;\n",
              "          }\n",
              "        }\n",
              "      }\n",
              "      const blob = new Blob(buffers, {type: 'application/binary'});\n",
              "      const a = document.createElement('a');\n",
              "      a.href = window.URL.createObjectURL(blob);\n",
              "      a.download = filename;\n",
              "      div.appendChild(a);\n",
              "      a.click();\n",
              "      div.remove();\n",
              "    }\n",
              "  "
            ],
            "text/plain": [
              "<IPython.core.display.Javascript object>"
            ]
          },
          "metadata": {
            "tags": []
          }
        },
        {
          "output_type": "display_data",
          "data": {
            "application/javascript": [
              "download(\"download_c52a2e1e-8af3-49f6-8e48-bb0334f02acf\", \"submission.csv\", 9736)"
            ],
            "text/plain": [
              "<IPython.core.display.Javascript object>"
            ]
          },
          "metadata": {
            "tags": []
          }
        }
      ]
    },
    {
      "cell_type": "markdown",
      "metadata": {
        "id": "VghEzJ8zE4kM",
        "colab_type": "text"
      },
      "source": [
        "## **Well Done! 👍**\n",
        "You are all set to make a submission. Let's head to the [challenge page](https://dphi.tech/practice/challenge/25) to make the submission."
      ]
    }
  ]
}